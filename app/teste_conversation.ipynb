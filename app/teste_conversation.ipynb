{
 "cells": [
  {
   "cell_type": "code",
   "execution_count": 103,
   "metadata": {},
   "outputs": [],
   "source": [
    "import dotenv\n",
    "import os\n",
    "from langchain_core.output_parsers import StrOutputParser\n",
    "from langchain_core.prompts import ChatPromptTemplate\n",
    "from langchain_openai import ChatOpenAI\n",
    "\n",
    "from typing import List\n",
    "\n",
    "import pandas as pd\n",
    "\n",
    "dotenv.load_dotenv()\n",
    "os.environ[\"OPENAI_API_KEY\"] = os.getenv(\"GPT_KEY\")\n",
    "\n",
    "# https://python.langchain.com/docs/expression_language/get_started/\n",
    "\n",
    "\n",
    "MODEL = ChatOpenAI(model=\"gpt-4\")\n"
   ]
  },
  {
   "cell_type": "code",
   "execution_count": 104,
   "metadata": {},
   "outputs": [],
   "source": [
    "conversa_id = 2\n",
    "roteiro_id = 2"
   ]
  },
  {
   "cell_type": "code",
   "execution_count": 105,
   "metadata": {},
   "outputs": [],
   "source": [
    "# df_messages é o dataframe com as mensagens referentes a conversa atual  \n",
    "df_messages = pd.read_csv(\"data/conversation.csv\", sep=\";\", encoding=\"UTF-8\")\n",
    "\n",
    "# df_script é o dataframe com os roteiros\n",
    "df_script = pd.read_csv(\"data/roteiros.csv\", sep=\";\", encoding=\"UTF-8\")\n",
    "\n",
    "# df_script_stages é o dataframe com as etapas dos roteiros\n",
    "df_script_stages = pd.read_csv(\"data/roteiro_stages.csv\", sep=\";\", encoding=\"UTF-8\")\n",
    "\n",
    "# pegamos o contexto, ou seja, todas as mensagens trocadas até agora na conversa\n",
    "context = df_messages[df_messages['CONVERSATION_ID'] == conversa_id]\n",
    "\n",
    "# se o contexto é vazio, pegamos a primeira mensagem do roteiro\n",
    "if len(context) == 0:\n",
    "        first_message = df_script_stages[(df_script_stages['ROTEIRO_ID'] == roteiro_id) & (df_script_stages['STAGE'] == 0)]\n",
    "        first_message = {\n",
    "            \"CONVERSATION_ID\" : [conversa_id], \n",
    "            \"ROTEIRO_ID\" : [roteiro_id], \n",
    "            \"STAGE\" : [0], \n",
    "            \"MENSAGEM_ID\" : [1], \n",
    "            \"TRANSCRIPT\" : [first_message['OPTION'].values[0]], \n",
    "            \"SENDER\": [\"CHAT\"]\n",
    "        }\n",
    "        df_messages = pd.concat([df_messages, pd.DataFrame(first_message)], ignore_index=True)\n",
    "        df_messages.to_csv('data/conversation.csv', index=False, sep=\";\")\n",
    "        context = df_messages[df_messages['CONVERSATION_ID'] == conversa_id]"
   ]
  },
  {
   "cell_type": "code",
   "execution_count": 106,
   "metadata": {},
   "outputs": [
    {
     "data": {
      "text/html": [
       "<div>\n",
       "<style scoped>\n",
       "    .dataframe tbody tr th:only-of-type {\n",
       "        vertical-align: middle;\n",
       "    }\n",
       "\n",
       "    .dataframe tbody tr th {\n",
       "        vertical-align: top;\n",
       "    }\n",
       "\n",
       "    .dataframe thead th {\n",
       "        text-align: right;\n",
       "    }\n",
       "</style>\n",
       "<table border=\"1\" class=\"dataframe\">\n",
       "  <thead>\n",
       "    <tr style=\"text-align: right;\">\n",
       "      <th></th>\n",
       "      <th>ROTEIRO_ID</th>\n",
       "      <th>STAGE</th>\n",
       "      <th>OPTION</th>\n",
       "    </tr>\n",
       "  </thead>\n",
       "  <tbody>\n",
       "    <tr>\n",
       "      <th>0</th>\n",
       "      <td>1</td>\n",
       "      <td>0</td>\n",
       "      <td>Doutor, boa tarde. Eu sou a Sandra, e vim rece...</td>\n",
       "    </tr>\n",
       "    <tr>\n",
       "      <th>1</th>\n",
       "      <td>1</td>\n",
       "      <td>1</td>\n",
       "      <td>Eu sou contra relacionamentos abertos pois ele...</td>\n",
       "    </tr>\n",
       "    <tr>\n",
       "      <th>2</th>\n",
       "      <td>1</td>\n",
       "      <td>1</td>\n",
       "      <td>Eu não tenho nenhum tipo de contato com pessoa...</td>\n",
       "    </tr>\n",
       "    <tr>\n",
       "      <th>3</th>\n",
       "      <td>1</td>\n",
       "      <td>1</td>\n",
       "      <td>Eu consigo assobiar e chupar cana ao mesmo tempo</td>\n",
       "    </tr>\n",
       "    <tr>\n",
       "      <th>4</th>\n",
       "      <td>2</td>\n",
       "      <td>0</td>\n",
       "      <td>Vamos começar a entrevista? Primeiramente, com...</td>\n",
       "    </tr>\n",
       "    <tr>\n",
       "      <th>5</th>\n",
       "      <td>2</td>\n",
       "      <td>1</td>\n",
       "      <td>Isso não faz sentido algum! Essa estrutura de ...</td>\n",
       "    </tr>\n",
       "    <tr>\n",
       "      <th>6</th>\n",
       "      <td>2</td>\n",
       "      <td>1</td>\n",
       "      <td>Sua resposta foi mais ou menos, mas não inclui...</td>\n",
       "    </tr>\n",
       "    <tr>\n",
       "      <th>7</th>\n",
       "      <td>2</td>\n",
       "      <td>1</td>\n",
       "      <td>Perfeito, você acertou! A estrutura de dados H...</td>\n",
       "    </tr>\n",
       "  </tbody>\n",
       "</table>\n",
       "</div>"
      ],
      "text/plain": [
       "   ROTEIRO_ID  STAGE                                             OPTION\n",
       "0           1      0  Doutor, boa tarde. Eu sou a Sandra, e vim rece...\n",
       "1           1      1  Eu sou contra relacionamentos abertos pois ele...\n",
       "2           1      1  Eu não tenho nenhum tipo de contato com pessoa...\n",
       "3           1      1   Eu consigo assobiar e chupar cana ao mesmo tempo\n",
       "4           2      0  Vamos começar a entrevista? Primeiramente, com...\n",
       "5           2      1  Isso não faz sentido algum! Essa estrutura de ...\n",
       "6           2      1  Sua resposta foi mais ou menos, mas não inclui...\n",
       "7           2      1  Perfeito, você acertou! A estrutura de dados H..."
      ]
     },
     "execution_count": 106,
     "metadata": {},
     "output_type": "execute_result"
    }
   ],
   "source": [
    "df_script_stages"
   ]
  },
  {
   "cell_type": "code",
   "execution_count": 107,
   "metadata": {},
   "outputs": [
    {
     "data": {
      "text/html": [
       "<div>\n",
       "<style scoped>\n",
       "    .dataframe tbody tr th:only-of-type {\n",
       "        vertical-align: middle;\n",
       "    }\n",
       "\n",
       "    .dataframe tbody tr th {\n",
       "        vertical-align: top;\n",
       "    }\n",
       "\n",
       "    .dataframe thead th {\n",
       "        text-align: right;\n",
       "    }\n",
       "</style>\n",
       "<table border=\"1\" class=\"dataframe\">\n",
       "  <thead>\n",
       "    <tr style=\"text-align: right;\">\n",
       "      <th></th>\n",
       "      <th>CONVERSATION_ID</th>\n",
       "      <th>ROTEIRO_ID</th>\n",
       "      <th>STAGE</th>\n",
       "      <th>MENSAGEM_ID</th>\n",
       "      <th>TRANSCRIPT</th>\n",
       "      <th>SENDER</th>\n",
       "    </tr>\n",
       "  </thead>\n",
       "  <tbody>\n",
       "    <tr>\n",
       "      <th>0</th>\n",
       "      <td>2</td>\n",
       "      <td>2</td>\n",
       "      <td>0</td>\n",
       "      <td>1</td>\n",
       "      <td>\"Vamos começar a entrevista? Primeiramente, c...</td>\n",
       "      <td>CHAT</td>\n",
       "    </tr>\n",
       "  </tbody>\n",
       "</table>\n",
       "</div>"
      ],
      "text/plain": [
       "   CONVERSATION_ID  ROTEIRO_ID  STAGE  MENSAGEM_ID  \\\n",
       "0                2           2      0            1   \n",
       "\n",
       "                                          TRANSCRIPT SENDER  \n",
       "0   \"Vamos começar a entrevista? Primeiramente, c...   CHAT  "
      ]
     },
     "execution_count": 107,
     "metadata": {},
     "output_type": "execute_result"
    }
   ],
   "source": [
    "context"
   ]
  },
  {
   "cell_type": "code",
   "execution_count": 108,
   "metadata": {},
   "outputs": [
    {
     "data": {
      "text/html": [
       "<div>\n",
       "<style scoped>\n",
       "    .dataframe tbody tr th:only-of-type {\n",
       "        vertical-align: middle;\n",
       "    }\n",
       "\n",
       "    .dataframe tbody tr th {\n",
       "        vertical-align: top;\n",
       "    }\n",
       "\n",
       "    .dataframe thead th {\n",
       "        text-align: right;\n",
       "    }\n",
       "</style>\n",
       "<table border=\"1\" class=\"dataframe\">\n",
       "  <thead>\n",
       "    <tr style=\"text-align: right;\">\n",
       "      <th></th>\n",
       "      <th>CONVERSATION_ID</th>\n",
       "      <th>ROTEIRO_ID</th>\n",
       "      <th>STAGE</th>\n",
       "      <th>MENSAGEM_ID</th>\n",
       "      <th>TRANSCRIPT</th>\n",
       "      <th>SENDER</th>\n",
       "    </tr>\n",
       "  </thead>\n",
       "  <tbody>\n",
       "    <tr>\n",
       "      <th>0</th>\n",
       "      <td>2</td>\n",
       "      <td>2</td>\n",
       "      <td>0</td>\n",
       "      <td>1</td>\n",
       "      <td>\"Vamos começar a entrevista? Primeiramente, c...</td>\n",
       "      <td>CHAT</td>\n",
       "    </tr>\n",
       "  </tbody>\n",
       "</table>\n",
       "</div>"
      ],
      "text/plain": [
       "   CONVERSATION_ID  ROTEIRO_ID  STAGE  MENSAGEM_ID  \\\n",
       "0                2           2      0            1   \n",
       "\n",
       "                                          TRANSCRIPT SENDER  \n",
       "0   \"Vamos começar a entrevista? Primeiramente, c...   CHAT  "
      ]
     },
     "execution_count": 108,
     "metadata": {},
     "output_type": "execute_result"
    }
   ],
   "source": [
    "df_messages"
   ]
  },
  {
   "cell_type": "code",
   "execution_count": 109,
   "metadata": {},
   "outputs": [],
   "source": [
    "df_script = df_script[df_script['ROTEIRO_ID'] == roteiro_id]"
   ]
  },
  {
   "cell_type": "code",
   "execution_count": 110,
   "metadata": {},
   "outputs": [
    {
     "data": {
      "text/html": [
       "<div>\n",
       "<style scoped>\n",
       "    .dataframe tbody tr th:only-of-type {\n",
       "        vertical-align: middle;\n",
       "    }\n",
       "\n",
       "    .dataframe tbody tr th {\n",
       "        vertical-align: top;\n",
       "    }\n",
       "\n",
       "    .dataframe thead th {\n",
       "        text-align: right;\n",
       "    }\n",
       "</style>\n",
       "<table border=\"1\" class=\"dataframe\">\n",
       "  <thead>\n",
       "    <tr style=\"text-align: right;\">\n",
       "      <th></th>\n",
       "      <th>ROTEIRO_ID</th>\n",
       "      <th>CONTEXT</th>\n",
       "      <th>CHAT</th>\n",
       "      <th>USER</th>\n",
       "    </tr>\n",
       "  </thead>\n",
       "  <tbody>\n",
       "    <tr>\n",
       "      <th>1</th>\n",
       "      <td>2</td>\n",
       "      <td>Você deve participar de uma entrevista de prog...</td>\n",
       "      <td>Entrevistador</td>\n",
       "      <td>Entrevistado</td>\n",
       "    </tr>\n",
       "  </tbody>\n",
       "</table>\n",
       "</div>"
      ],
      "text/plain": [
       "   ROTEIRO_ID                                            CONTEXT  \\\n",
       "1           2  Você deve participar de uma entrevista de prog...   \n",
       "\n",
       "            CHAT          USER  \n",
       "1  Entrevistador  Entrevistado  "
      ]
     },
     "execution_count": 110,
     "metadata": {},
     "output_type": "execute_result"
    }
   ],
   "source": [
    "df_script"
   ]
  },
  {
   "cell_type": "code",
   "execution_count": 111,
   "metadata": {},
   "outputs": [],
   "source": [
    "def buildPrompt(context: pd.DataFrame, df_scripts: pd.Series, message:str, chat_role:str):\n",
    "\n",
    "    prompt = \"O contexto da Atividade é:\" + df_scripts[\"CONTEXT\"] + \"\\n\" + f\"Você deve atuar como o {chat_role}\" + \"\\n\\n Essa é a conversa até agora: \\n\"\n",
    "\n",
    "    messages = context['TRANSCRIPT'].to_list()\n",
    "    senders = context['SENDER'].to_list()\n",
    "\n",
    "\n",
    "    for i in range(len(context)):\n",
    "        prompt += df_scripts[senders[i]] + \" - \" + messages[i] + \"\\n\\n\"\n",
    "\n",
    "    prompt += \"A última mensagem do/a \" + df_scripts[\"USER\"] + \" foi:\\n\" + message\n",
    "\n",
    "    prompt+= '''\n",
    "Qual seria a próxima resposta mais apropriada, entre as seguintes:\n",
    "\n",
    "    {Resposta1}\n",
    "\n",
    "    {Resposta2}\n",
    "\n",
    "    {Resposta3}\n",
    "\n",
    "Responda somente com um número, correspondente a resposta escolhida\n",
    "    '''\n",
    "\n",
    "    return prompt"
   ]
  },
  {
   "cell_type": "code",
   "execution_count": 112,
   "metadata": {},
   "outputs": [],
   "source": [
    "user_response = \"Um Hashmap é uma estrutura de dados que funciona como uma lista, porém cada item da lista tem um ponteiro que aponta para o próximo item da lista\""
   ]
  },
  {
   "cell_type": "code",
   "execution_count": 113,
   "metadata": {},
   "outputs": [],
   "source": [
    "chat_role = df_script[\"CHAT\"].values[0]\n",
    "prompt = buildPrompt(context=context, df_scripts=df_script.iloc[0], message=user_response, chat_role=chat_role)"
   ]
  },
  {
   "cell_type": "code",
   "execution_count": 114,
   "metadata": {},
   "outputs": [
    {
     "data": {
      "text/plain": [
       "'O contexto da Atividade é:Você deve participar de uma entrevista de programação\\nVocê deve atuar como o Entrevistador\\n\\n Essa é a conversa até agora: \\nEntrevistador -  \"Vamos começar a entrevista? Primeiramente, como funciona a estrutura HASHMAP?\"\\n\\nA última mensagem do/a Entrevistado foi:\\nUm Hashmap é uma estrutura de dados que funciona como uma lista, porém cada item da lista tem um ponteiro que aponta para o próximo item da lista\\nQual seria a próxima resposta mais apropriada, entre as seguintes:\\n\\n    {Resposta1}\\n\\n    {Resposta2}\\n\\n    {Resposta3}\\n\\nResponda somente com um número, correspondente a resposta escolhida\\n    '"
      ]
     },
     "execution_count": 114,
     "metadata": {},
     "output_type": "execute_result"
    }
   ],
   "source": [
    "prompt"
   ]
  },
  {
   "cell_type": "code",
   "execution_count": 115,
   "metadata": {},
   "outputs": [],
   "source": [
    "stage = context['STAGE'].max()+1\n",
    "m_id = context['MENSAGEM_ID'].max()"
   ]
  },
  {
   "cell_type": "code",
   "execution_count": 116,
   "metadata": {},
   "outputs": [
    {
     "data": {
      "text/plain": [
       "1"
      ]
     },
     "execution_count": 116,
     "metadata": {},
     "output_type": "execute_result"
    }
   ],
   "source": [
    "stage"
   ]
  },
  {
   "cell_type": "code",
   "execution_count": 117,
   "metadata": {},
   "outputs": [
    {
     "data": {
      "text/plain": [
       "1"
      ]
     },
     "execution_count": 117,
     "metadata": {},
     "output_type": "execute_result"
    }
   ],
   "source": [
    "m_id"
   ]
  },
  {
   "cell_type": "code",
   "execution_count": 120,
   "metadata": {},
   "outputs": [],
   "source": [
    "df_script_stages = df_script_stages[(df_script_stages['ROTEIRO_ID'] == roteiro_id) & (df_script_stages['STAGE'] == stage)]\n",
    "options = df_script_stages['OPTION'].astype(str).to_list()"
   ]
  },
  {
   "cell_type": "code",
   "execution_count": 124,
   "metadata": {},
   "outputs": [
    {
     "data": {
      "text/plain": [
       "['Isso não faz sentido algum! Essa estrutura de dados não tem nada a ver com um Hashmap',\n",
       " 'Sua resposta foi mais ou menos, mas não incluiu todas as informações relevantes: a estrutura de dados Hashmap é uma estrutura de dados que associa chaves de pesquisa a valores',\n",
       " 'Perfeito, você acertou! A estrutura de dados Hashmap é uma estrutura de dados que associa chaves de pesquisa a valores']"
      ]
     },
     "execution_count": 124,
     "metadata": {},
     "output_type": "execute_result"
    }
   ],
   "source": [
    "options"
   ]
  },
  {
   "cell_type": "code",
   "execution_count": 121,
   "metadata": {},
   "outputs": [],
   "source": [
    "def getResponse(options: List[str], prpt: str) -> int:\n",
    "\n",
    "    prompt = ChatPromptTemplate.from_template(prpt)\n",
    "    output_parser = StrOutputParser()\n",
    "\n",
    "    chain = prompt | MODEL | output_parser\n",
    "\n",
    "    n = chain.invoke({f\"Resposta{i+1}\":options[i] for i in range(len(options))})\n",
    "\n",
    "    return int(n)"
   ]
  },
  {
   "cell_type": "code",
   "execution_count": 125,
   "metadata": {},
   "outputs": [],
   "source": [
    "response = getResponse(options=options, prpt=prompt)"
   ]
  },
  {
   "cell_type": "code",
   "execution_count": 126,
   "metadata": {},
   "outputs": [
    {
     "data": {
      "text/plain": [
       "2"
      ]
     },
     "execution_count": 126,
     "metadata": {},
     "output_type": "execute_result"
    }
   ],
   "source": [
    "response"
   ]
  },
  {
   "cell_type": "code",
   "execution_count": 127,
   "metadata": {},
   "outputs": [],
   "source": [
    "data = {\n",
    "    \"CONVERSATION_ID\" : [conversa_id, conversa_id], \n",
    "    \"ROTEIRO_ID\" : [roteiro_id, roteiro_id], \n",
    "    \"STAGE\" : [stage, stage], \n",
    "    \"MENSAGEM_ID\" : [m_id+1, m_id+2], \n",
    "    \"TRANSCRIPT\" : [user_response, options[response-1]], \n",
    "    \"SENDER\": [\"USER\", \"CHAT\"]\n",
    "}\n",
    "\n",
    "\n",
    "user_and_chat_answers = pd.DataFrame(data)\n",
    "df_messages = pd.concat([df_messages, user_and_chat_answers], ignore_index=True)\n",
    "df_messages.to_csv('data/conversation.csv', index=False, sep=\";\")"
   ]
  }
 ],
 "metadata": {
  "kernelspec": {
   "display_name": "env",
   "language": "python",
   "name": "python3"
  },
  "language_info": {
   "codemirror_mode": {
    "name": "ipython",
    "version": 3
   },
   "file_extension": ".py",
   "mimetype": "text/x-python",
   "name": "python",
   "nbconvert_exporter": "python",
   "pygments_lexer": "ipython3",
   "version": "3.10.12"
  }
 },
 "nbformat": 4,
 "nbformat_minor": 2
}
