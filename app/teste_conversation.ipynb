{
 "cells": [
  {
   "cell_type": "code",
   "execution_count": 21,
   "metadata": {},
   "outputs": [],
   "source": [
    "import dotenv\n",
    "import os\n",
    "from langchain_core.output_parsers import StrOutputParser\n",
    "from langchain_core.prompts import ChatPromptTemplate\n",
    "from langchain_openai import ChatOpenAI\n",
    "\n",
    "from typing import List\n",
    "\n",
    "import pandas as pd\n",
    "\n",
    "dotenv.load_dotenv()\n",
    "os.environ[\"OPENAI_API_KEY\"] = os.getenv(\"GPT_KEY\")\n",
    "\n",
    "# https://python.langchain.com/docs/expression_language/get_started/\n",
    "\n",
    "\n",
    "MODEL = ChatOpenAI(model=\"gpt-4\")\n"
   ]
  },
  {
   "cell_type": "code",
   "execution_count": 22,
   "metadata": {},
   "outputs": [],
   "source": [
    "roteiro_id = 2\n",
    "user_response = \"Em ciência da computação, Hashmap é uma estrutura de dados especial que associa a chave de pesquisa a valores. Seu objetivo é a partir de uma chave simples, fazer uma busca rápida e obter o valor desejado. É algumas vezes traduzidas traduzida como tabela de dispersão.\""
   ]
  },
  {
   "cell_type": "code",
   "execution_count": 23,
   "metadata": {},
   "outputs": [],
   "source": [
    "# df_messages é o dataframe com as mensagens referentes a conversa atual  \n",
    "df_messages = pd.read_csv(\"src/services/data/conversation.csv\", sep=\";\", encoding=\"UTF-8\")\n",
    "\n",
    "# df_script é o dataframe com os roteiros\n",
    "df_script = pd.read_csv(\"src/services/data/roteiros.csv\", sep=\";\", encoding=\"UTF-8\")\n",
    "\n",
    "# df_script_stages é o dataframe com as etapas dos roteiros\n",
    "df_script_stages = pd.read_csv(\"src/services/data/roteiro_stages.csv\", sep=\";\", encoding=\"UTF-8\")\n",
    "\n",
    "conversa_id = df_messages['CONVERSATION_ID'].max() + 1\n",
    "\n",
    "# pegamos o contexto, ou seja, todas as mensagens trocadas até agora na conversa\n",
    "context = df_messages[df_messages['CONVERSATION_ID'] == conversa_id]\n",
    "\n",
    "# se o contexto é vazio, pegamos a primeira mensagem do roteiro\n",
    "if len(context) == 0:\n",
    "    # Salva a mensagem na base de dados\n",
    "    first_message = df_script_stages[(df_script_stages['ROTEIRO_ID'] == roteiro_id) & (df_script_stages['STAGE'] == 0)]\n",
    "    first_message = {\n",
    "        \"CONVERSATION_ID\" : [conversa_id], \n",
    "        \"ROTEIRO_ID\" : [roteiro_id], \n",
    "        \"STAGE\" : [0], \n",
    "        \"MENSAGEM_ID\" : [1], \n",
    "        \"TRANSCRIPT\" : [first_message['OPTION'].values[0]], \n",
    "        \"SENDER\": [\"CHAT\"]\n",
    "    }\n",
    "    df_messages = pd.concat([df_messages, pd.DataFrame(first_message)], ignore_index=True)\n",
    "    df_messages.to_csv('src/services/data/conversation.csv', index=False, sep=\";\")\n",
    "    context = df_messages[df_messages['CONVERSATION_ID'] == conversa_id]"
   ]
  },
  {
   "cell_type": "code",
   "execution_count": 24,
   "metadata": {},
   "outputs": [
    {
     "data": {
      "text/html": [
       "<div>\n",
       "<style scoped>\n",
       "    .dataframe tbody tr th:only-of-type {\n",
       "        vertical-align: middle;\n",
       "    }\n",
       "\n",
       "    .dataframe tbody tr th {\n",
       "        vertical-align: top;\n",
       "    }\n",
       "\n",
       "    .dataframe thead th {\n",
       "        text-align: right;\n",
       "    }\n",
       "</style>\n",
       "<table border=\"1\" class=\"dataframe\">\n",
       "  <thead>\n",
       "    <tr style=\"text-align: right;\">\n",
       "      <th></th>\n",
       "      <th>ROTEIRO_ID</th>\n",
       "      <th>STAGE</th>\n",
       "      <th>OPTION</th>\n",
       "    </tr>\n",
       "  </thead>\n",
       "  <tbody>\n",
       "    <tr>\n",
       "      <th>0</th>\n",
       "      <td>1</td>\n",
       "      <td>0</td>\n",
       "      <td>Doutor, boa tarde. Eu sou a Sandra, e vim rece...</td>\n",
       "    </tr>\n",
       "    <tr>\n",
       "      <th>1</th>\n",
       "      <td>1</td>\n",
       "      <td>1</td>\n",
       "      <td>Eu sou contra relacionamentos abertos pois ele...</td>\n",
       "    </tr>\n",
       "    <tr>\n",
       "      <th>2</th>\n",
       "      <td>1</td>\n",
       "      <td>1</td>\n",
       "      <td>Eu não tenho nenhum tipo de contato com pessoa...</td>\n",
       "    </tr>\n",
       "    <tr>\n",
       "      <th>3</th>\n",
       "      <td>1</td>\n",
       "      <td>1</td>\n",
       "      <td>Eu consigo assobiar e chupar cana ao mesmo tempo</td>\n",
       "    </tr>\n",
       "    <tr>\n",
       "      <th>4</th>\n",
       "      <td>2</td>\n",
       "      <td>0</td>\n",
       "      <td>Vamos começar a entrevista? Primeiramente, com...</td>\n",
       "    </tr>\n",
       "    <tr>\n",
       "      <th>5</th>\n",
       "      <td>2</td>\n",
       "      <td>1</td>\n",
       "      <td>Isso não faz sentido algum! Essa estrutura de ...</td>\n",
       "    </tr>\n",
       "    <tr>\n",
       "      <th>6</th>\n",
       "      <td>2</td>\n",
       "      <td>1</td>\n",
       "      <td>Sua resposta foi mais ou menos, mas não inclui...</td>\n",
       "    </tr>\n",
       "    <tr>\n",
       "      <th>7</th>\n",
       "      <td>2</td>\n",
       "      <td>1</td>\n",
       "      <td>Perfeito, você acertou! A estrutura de dados H...</td>\n",
       "    </tr>\n",
       "  </tbody>\n",
       "</table>\n",
       "</div>"
      ],
      "text/plain": [
       "   ROTEIRO_ID  STAGE                                             OPTION\n",
       "0           1      0  Doutor, boa tarde. Eu sou a Sandra, e vim rece...\n",
       "1           1      1  Eu sou contra relacionamentos abertos pois ele...\n",
       "2           1      1  Eu não tenho nenhum tipo de contato com pessoa...\n",
       "3           1      1   Eu consigo assobiar e chupar cana ao mesmo tempo\n",
       "4           2      0  Vamos começar a entrevista? Primeiramente, com...\n",
       "5           2      1  Isso não faz sentido algum! Essa estrutura de ...\n",
       "6           2      1  Sua resposta foi mais ou menos, mas não inclui...\n",
       "7           2      1  Perfeito, você acertou! A estrutura de dados H..."
      ]
     },
     "execution_count": 24,
     "metadata": {},
     "output_type": "execute_result"
    }
   ],
   "source": [
    "df_script_stages"
   ]
  },
  {
   "cell_type": "code",
   "execution_count": 25,
   "metadata": {},
   "outputs": [
    {
     "data": {
      "text/html": [
       "<div>\n",
       "<style scoped>\n",
       "    .dataframe tbody tr th:only-of-type {\n",
       "        vertical-align: middle;\n",
       "    }\n",
       "\n",
       "    .dataframe tbody tr th {\n",
       "        vertical-align: top;\n",
       "    }\n",
       "\n",
       "    .dataframe thead th {\n",
       "        text-align: right;\n",
       "    }\n",
       "</style>\n",
       "<table border=\"1\" class=\"dataframe\">\n",
       "  <thead>\n",
       "    <tr style=\"text-align: right;\">\n",
       "      <th></th>\n",
       "      <th>CONVERSATION_ID</th>\n",
       "      <th>ROTEIRO_ID</th>\n",
       "      <th>STAGE</th>\n",
       "      <th>MENSAGEM_ID</th>\n",
       "      <th>TRANSCRIPT</th>\n",
       "      <th>SENDER</th>\n",
       "    </tr>\n",
       "  </thead>\n",
       "  <tbody>\n",
       "  </tbody>\n",
       "</table>\n",
       "</div>"
      ],
      "text/plain": [
       "Empty DataFrame\n",
       "Columns: [CONVERSATION_ID, ROTEIRO_ID, STAGE, MENSAGEM_ID, TRANSCRIPT, SENDER]\n",
       "Index: []"
      ]
     },
     "execution_count": 25,
     "metadata": {},
     "output_type": "execute_result"
    }
   ],
   "source": [
    "context"
   ]
  },
  {
   "cell_type": "code",
   "execution_count": 26,
   "metadata": {},
   "outputs": [
    {
     "data": {
      "text/html": [
       "<div>\n",
       "<style scoped>\n",
       "    .dataframe tbody tr th:only-of-type {\n",
       "        vertical-align: middle;\n",
       "    }\n",
       "\n",
       "    .dataframe tbody tr th {\n",
       "        vertical-align: top;\n",
       "    }\n",
       "\n",
       "    .dataframe thead th {\n",
       "        text-align: right;\n",
       "    }\n",
       "</style>\n",
       "<table border=\"1\" class=\"dataframe\">\n",
       "  <thead>\n",
       "    <tr style=\"text-align: right;\">\n",
       "      <th></th>\n",
       "      <th>CONVERSATION_ID</th>\n",
       "      <th>ROTEIRO_ID</th>\n",
       "      <th>STAGE</th>\n",
       "      <th>MENSAGEM_ID</th>\n",
       "      <th>TRANSCRIPT</th>\n",
       "      <th>SENDER</th>\n",
       "    </tr>\n",
       "  </thead>\n",
       "  <tbody>\n",
       "    <tr>\n",
       "      <th>0</th>\n",
       "      <td>NaN</td>\n",
       "      <td>2</td>\n",
       "      <td>0</td>\n",
       "      <td>1</td>\n",
       "      <td>Vamos começar a entrevista? Primeiramente, com...</td>\n",
       "      <td>CHAT</td>\n",
       "    </tr>\n",
       "  </tbody>\n",
       "</table>\n",
       "</div>"
      ],
      "text/plain": [
       "  CONVERSATION_ID ROTEIRO_ID STAGE MENSAGEM_ID  \\\n",
       "0             NaN          2     0           1   \n",
       "\n",
       "                                          TRANSCRIPT SENDER  \n",
       "0  Vamos começar a entrevista? Primeiramente, com...   CHAT  "
      ]
     },
     "execution_count": 26,
     "metadata": {},
     "output_type": "execute_result"
    }
   ],
   "source": [
    "df_messages"
   ]
  },
  {
   "cell_type": "code",
   "execution_count": 27,
   "metadata": {},
   "outputs": [],
   "source": [
    "df_script = df_script[df_script['ROTEIRO_ID'] == roteiro_id]"
   ]
  },
  {
   "cell_type": "code",
   "execution_count": 28,
   "metadata": {},
   "outputs": [
    {
     "data": {
      "text/html": [
       "<div>\n",
       "<style scoped>\n",
       "    .dataframe tbody tr th:only-of-type {\n",
       "        vertical-align: middle;\n",
       "    }\n",
       "\n",
       "    .dataframe tbody tr th {\n",
       "        vertical-align: top;\n",
       "    }\n",
       "\n",
       "    .dataframe thead th {\n",
       "        text-align: right;\n",
       "    }\n",
       "</style>\n",
       "<table border=\"1\" class=\"dataframe\">\n",
       "  <thead>\n",
       "    <tr style=\"text-align: right;\">\n",
       "      <th></th>\n",
       "      <th>ROTEIRO_ID</th>\n",
       "      <th>CONTEXT</th>\n",
       "      <th>CHAT</th>\n",
       "      <th>USER</th>\n",
       "    </tr>\n",
       "  </thead>\n",
       "  <tbody>\n",
       "    <tr>\n",
       "      <th>1</th>\n",
       "      <td>2</td>\n",
       "      <td>Você deve participar de uma entrevista de prog...</td>\n",
       "      <td>Entrevistador</td>\n",
       "      <td>Entrevistado</td>\n",
       "    </tr>\n",
       "  </tbody>\n",
       "</table>\n",
       "</div>"
      ],
      "text/plain": [
       "   ROTEIRO_ID                                            CONTEXT  \\\n",
       "1           2  Você deve participar de uma entrevista de prog...   \n",
       "\n",
       "            CHAT          USER  \n",
       "1  Entrevistador  Entrevistado  "
      ]
     },
     "execution_count": 28,
     "metadata": {},
     "output_type": "execute_result"
    }
   ],
   "source": [
    "df_script"
   ]
  },
  {
   "cell_type": "code",
   "execution_count": 29,
   "metadata": {},
   "outputs": [],
   "source": [
    "def buildPrompt(context: pd.DataFrame, df_scripts: pd.Series, message:str, chat_role:str, options_qtty:int):\n",
    "\n",
    "    prompt = \"O contexto da Atividade é:\\n\" + df_scripts[\"CONTEXT\"] + \"\\n\" + f\"Você deve atuar como o {chat_role}\" + \"\\n\\n Essa é a conversa até agora: \\n\"\n",
    "\n",
    "    messages = context['TRANSCRIPT'].to_list()\n",
    "    senders = context['SENDER'].to_list()\n",
    "\n",
    "\n",
    "    for i in range(len(context)):\n",
    "        prompt += df_scripts[senders[i]] + \" - \" + messages[i] + \"\\n\\n\"\n",
    "\n",
    "    prompt += \"A última mensagem do/a \" + df_scripts[\"USER\"] + \" foi:\\n\" + message + \"\\n\"\n",
    "\n",
    "    prompt+= \"Qual seria a próxima resposta mais apropriada, entre as seguintes:\\n\"\n",
    "\n",
    "    for i in range(options_qtty):\n",
    "        prompt += \"{Resposta \" + f\"{i+1}\" + \"}\\n\"\n",
    "\n",
    "    prompt += \"Responda somente com o número correspondente a resposta escolhida\"\n",
    "\n",
    "    return prompt"
   ]
  },
  {
   "cell_type": "code",
   "execution_count": 30,
   "metadata": {},
   "outputs": [],
   "source": [
    "stage = context['STAGE'].max()+1\n",
    "m_id = context['MENSAGEM_ID'].max()"
   ]
  },
  {
   "cell_type": "code",
   "execution_count": 31,
   "metadata": {},
   "outputs": [
    {
     "data": {
      "text/plain": [
       "nan"
      ]
     },
     "execution_count": 31,
     "metadata": {},
     "output_type": "execute_result"
    }
   ],
   "source": [
    "stage"
   ]
  },
  {
   "cell_type": "code",
   "execution_count": 32,
   "metadata": {},
   "outputs": [
    {
     "data": {
      "text/plain": [
       "nan"
      ]
     },
     "execution_count": 32,
     "metadata": {},
     "output_type": "execute_result"
    }
   ],
   "source": [
    "m_id"
   ]
  },
  {
   "cell_type": "code",
   "execution_count": 33,
   "metadata": {},
   "outputs": [],
   "source": [
    "df_script_stages = df_script_stages[(df_script_stages['ROTEIRO_ID'] == roteiro_id) & (df_script_stages['STAGE'] == stage)]\n",
    "options = df_script_stages['OPTION'].astype(str).to_list()"
   ]
  },
  {
   "cell_type": "code",
   "execution_count": 34,
   "metadata": {},
   "outputs": [
    {
     "data": {
      "text/plain": [
       "[]"
      ]
     },
     "execution_count": 34,
     "metadata": {},
     "output_type": "execute_result"
    }
   ],
   "source": [
    "options"
   ]
  },
  {
   "cell_type": "code",
   "execution_count": 35,
   "metadata": {},
   "outputs": [],
   "source": [
    "chat_role = df_script[\"CHAT\"].values[0]\n",
    "options_qtty = len(options)\n",
    "prompt = buildPrompt(context=context, df_scripts=df_script.iloc[0], message=user_response, chat_role=chat_role, options_qtty=options_qtty)"
   ]
  },
  {
   "cell_type": "code",
   "execution_count": 36,
   "metadata": {},
   "outputs": [
    {
     "data": {
      "text/plain": [
       "'O contexto da Atividade é:\\nVocê deve participar de uma entrevista de programação\\nVocê deve atuar como o Entrevistador\\n\\n Essa é a conversa até agora: \\nA última mensagem do/a Entrevistado foi:\\nEm ciência da computação, Hashmap é uma estrutura de dados especial que associa a chave de pesquisa a valores. Seu objetivo é a partir de uma chave simples, fazer uma busca rápida e obter o valor desejado. É algumas vezes traduzidas traduzida como tabela de dispersão.\\nQual seria a próxima resposta mais apropriada, entre as seguintes:\\nResponda somente com o número correspondente a resposta escolhida'"
      ]
     },
     "execution_count": 36,
     "metadata": {},
     "output_type": "execute_result"
    }
   ],
   "source": [
    "prompt"
   ]
  },
  {
   "cell_type": "code",
   "execution_count": 37,
   "metadata": {},
   "outputs": [
    {
     "data": {
      "text/plain": [
       "{}"
      ]
     },
     "execution_count": 37,
     "metadata": {},
     "output_type": "execute_result"
    }
   ],
   "source": [
    "{f\"Resposta{i+1}\":options[i] for i in range(len(options))}"
   ]
  },
  {
   "cell_type": "code",
   "execution_count": 38,
   "metadata": {},
   "outputs": [],
   "source": [
    "def getResponse(options: List[str], prpt: str) -> int:\n",
    "\n",
    "    prompt = ChatPromptTemplate.from_template(prpt)\n",
    "    output_parser = StrOutputParser()\n",
    "\n",
    "    chain = prompt | MODEL | output_parser\n",
    "\n",
    "    n = chain.invoke({f\"Resposta {i+1}\":options[i] for i in range(len(options))})\n",
    "\n",
    "    return int(n)"
   ]
  },
  {
   "cell_type": "code",
   "execution_count": 39,
   "metadata": {},
   "outputs": [
    {
     "ename": "ValueError",
     "evalue": "invalid literal for int() with base 10: '1. Certo, você pode me explicar a diferença entre um Hashmap e um Hashtable?\\n2. Entendi. Agora, você pode me contar sobre sua experiência com a linguagem Python?\\n3. Você poderia me dar um exemplo d",
     "output_type": "error",
     "traceback": [
      "\u001b[0;31m---------------------------------------------------------------------------\u001b[0m",
      "\u001b[0;31mValueError\u001b[0m                                Traceback (most recent call last)",
      "Cell \u001b[0;32mIn[39], line 1\u001b[0m\n\u001b[0;32m----> 1\u001b[0m response \u001b[38;5;241m=\u001b[39m \u001b[43mgetResponse\u001b[49m\u001b[43m(\u001b[49m\u001b[43moptions\u001b[49m\u001b[38;5;241;43m=\u001b[39;49m\u001b[43moptions\u001b[49m\u001b[43m,\u001b[49m\u001b[43m \u001b[49m\u001b[43mprpt\u001b[49m\u001b[38;5;241;43m=\u001b[39;49m\u001b[43mprompt\u001b[49m\u001b[43m)\u001b[49m\n",
      "Cell \u001b[0;32mIn[38], line 10\u001b[0m, in \u001b[0;36mgetResponse\u001b[0;34m(options, prpt)\u001b[0m\n\u001b[1;32m      6\u001b[0m chain \u001b[38;5;241m=\u001b[39m prompt \u001b[38;5;241m|\u001b[39m MODEL \u001b[38;5;241m|\u001b[39m output_parser\n\u001b[1;32m      8\u001b[0m n \u001b[38;5;241m=\u001b[39m chain\u001b[38;5;241m.\u001b[39minvoke({\u001b[38;5;124mf\u001b[39m\u001b[38;5;124m\"\u001b[39m\u001b[38;5;124mResposta \u001b[39m\u001b[38;5;132;01m{\u001b[39;00mi\u001b[38;5;241m+\u001b[39m\u001b[38;5;241m1\u001b[39m\u001b[38;5;132;01m}\u001b[39;00m\u001b[38;5;124m\"\u001b[39m:options[i] \u001b[38;5;28;01mfor\u001b[39;00m i \u001b[38;5;129;01min\u001b[39;00m \u001b[38;5;28mrange\u001b[39m(\u001b[38;5;28mlen\u001b[39m(options))})\n\u001b[0;32m---> 10\u001b[0m \u001b[38;5;28;01mreturn\u001b[39;00m \u001b[38;5;28;43mint\u001b[39;49m\u001b[43m(\u001b[49m\u001b[43mn\u001b[49m\u001b[43m)\u001b[49m\n",
      "\u001b[0;31mValueError\u001b[0m: invalid literal for int() with base 10: '1. Certo, você pode me explicar a diferença entre um Hashmap e um Hashtable?\\n2. Entendi. Agora, você pode me contar sobre sua experiência com a linguagem Python?\\n3. Você poderia me dar um exemplo d"
     ]
    }
   ],
   "source": [
    "response = getResponse(options=options, prpt=prompt)"
   ]
  },
  {
   "cell_type": "code",
   "execution_count": null,
   "metadata": {},
   "outputs": [
    {
     "data": {
      "text/plain": [
       "3"
      ]
     },
     "execution_count": 20,
     "metadata": {},
     "output_type": "execute_result"
    }
   ],
   "source": [
    "response"
   ]
  }
 ],
 "metadata": {
  "kernelspec": {
   "display_name": "env",
   "language": "python",
   "name": "python3"
  },
  "language_info": {
   "codemirror_mode": {
    "name": "ipython",
    "version": 3
   },
   "file_extension": ".py",
   "mimetype": "text/x-python",
   "name": "python",
   "nbconvert_exporter": "python",
   "pygments_lexer": "ipython3",
   "version": "3.10.12"
  }
 },
 "nbformat": 4,
 "nbformat_minor": 2
}
