{
 "cells": [
  {
   "cell_type": "code",
   "execution_count": 1,
   "metadata": {},
   "outputs": [
    {
     "data": {
      "text/plain": [
       "True"
      ]
     },
     "execution_count": 1,
     "metadata": {},
     "output_type": "execute_result"
    }
   ],
   "source": [
    "import os\n",
    "from dotenv import load_dotenv\n",
    "import logging, verboselogs\n",
    "\n",
    "from deepgram import (\n",
    "    DeepgramClient,\n",
    "    ClientOptionsFromEnv,\n",
    "    PrerecordedOptions,\n",
    ")\n",
    "\n",
    "load_dotenv()"
   ]
  },
  {
   "cell_type": "markdown",
   "metadata": {},
   "source": [
    "Through File"
   ]
  },
  {
   "cell_type": "code",
   "execution_count": 2,
   "metadata": {},
   "outputs": [
    {
     "name": "stdout",
     "output_type": "stream",
     "text": [
      "Exception: DeepgramApiError: Could not determine if URL for media download is publicly routable. (Status: 400)\n"
     ]
    }
   ],
   "source": [
    "# Source Code from the Deepgram Python SDK\n",
    "\n",
    "AUDIO_URL = {\n",
    "    \"url\": \"blob:http://localhost:3000/c898108d-81d9-453c-b71c-0b72a6e6db1a\"\n",
    "}\n",
    "\n",
    "\n",
    "def main():\n",
    "    try:\n",
    "        # STEP 1 Create a Deepgram client using the API key from environment variables\n",
    "        deepgram: DeepgramClient = DeepgramClient(\"\", ClientOptionsFromEnv())\n",
    "\n",
    "        # STEP 2 Call the transcribe_url method on the prerecorded class\n",
    "        options: PrerecordedOptions = PrerecordedOptions(\n",
    "            model=\"nova-2\",\n",
    "            smart_format=True,\n",
    "            language = \"pt-BR\",\n",
    "        )\n",
    "        response = deepgram.listen.prerecorded.v(\"1\").transcribe_url(AUDIO_URL, options)\n",
    "        print(f\"response: {response}\\n\\n\")\n",
    "        # print(f\"metadata: {response['metadata']}\\n\\n\")\n",
    "        print(\n",
    "            f\"transcript: {response.results.channels[0].alternatives[0]['transcript']}\\n\\n\"\n",
    "        )\n",
    "        # for word in response.results.channels[0].alternatives[0].words:\n",
    "        #     print(f\"Word: {word.word}, Start: {word.start}, End: {word.end}\")\n",
    "        export = open(\"url_transcript.txt\", \"w\")\n",
    "        export.write(response.results.channels[0].alternatives[0]['transcript'])\n",
    "    except Exception as e:\n",
    "        print(f\"Exception: {e}\")\n",
    "\n",
    "\n",
    "if __name__ == \"__main__\":\n",
    "    main()"
   ]
  },
  {
   "cell_type": "markdown",
   "metadata": {},
   "source": []
  }
 ],
 "metadata": {
  "kernelspec": {
   "display_name": "env",
   "language": "python",
   "name": "python3"
  },
  "language_info": {
   "codemirror_mode": {
    "name": "ipython",
    "version": 3
   },
   "file_extension": ".py",
   "mimetype": "text/x-python",
   "name": "python",
   "nbconvert_exporter": "python",
   "pygments_lexer": "ipython3",
   "version": "3.11.5"
  }
 },
 "nbformat": 4,
 "nbformat_minor": 2
}
